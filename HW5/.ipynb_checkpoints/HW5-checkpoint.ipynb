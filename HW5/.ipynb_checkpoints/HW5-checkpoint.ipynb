{
 "cells": [
  {
   "cell_type": "markdown",
   "metadata": {},
   "source": [
    "Вы работаете секретарем и вам постоянно приходят различные документы. Вы должны быть очень внимательны, чтобы не потерять ни один документ. Каталог документов хранится в следующем виде:"
   ]
  },
  {
   "cell_type": "code",
   "execution_count": null,
   "metadata": {},
   "outputs": [],
   "source": [
    "documents = [\n",
    "    {'type': 'passport', 'number': '2207 876234', 'name': 'Василий Гупкин'},\n",
    "    {'type': 'invoice', 'number': '11-2', 'name': 'Геннадий Покемонов'},\n",
    "    {'type': 'insurance', 'number': '10006', 'name': 'Аристарх Павлов'}\n",
    "]\n",
    "directories = {\n",
    "    '1': ['2207 876234', '11-2'],\n",
    "    '2': ['10006'],\n",
    "    '3': []\n",
    "}\n",
    "\n",
    "def main ():\n",
    "    while True:\n",
    "        user_input = input(\"Введите комманду:\")\n",
    "        if user_input == 'p':\n",
    "            print(people (documents))\n",
    "        elif user_input == 's':\n",
    "            print(shelf())\n",
    "        elif user_input == 'l':\n",
    "            print(list_l ())\n",
    "        elif user_input == 'as':\n",
    "            print(add_shelf())\n",
    "        elif user_input == 'd':\n",
    "            print(delete())\n",
    "        elif user_input == 'm':\n",
    "            print(move())\n",
    "        elif user_input == 'a':\n",
    "            print(add (documents,directories))\n",
    "        elif user_input == 'D':\n",
    "            break\n",
    "main()"
   ]
  },
  {
   "cell_type": "code",
   "execution_count": null,
   "metadata": {},
   "outputs": [],
   "source": [
    "\n",
    "def people (documents):\n",
    "    input_number = input(\"Введите номер документа:\")\n",
    "    for doc in documents:\n",
    "        if input_number == doc['number']:\n",
    "                           return doc['name']\n",
    "    return \"Такого документа нет\"\n",
    "#p – people – команда, которая спросит номер документа и выведет имя человека, которому он принадлежит;"
   ]
  },
  {
   "cell_type": "code",
   "execution_count": null,
   "metadata": {},
   "outputs": [],
   "source": [
    "people (documents)"
   ]
  },
  {
   "cell_type": "code",
   "execution_count": null,
   "metadata": {},
   "outputs": [],
   "source": [
    "\n",
    "def shelf():\n",
    "    input_num = input(\"Введите номер документа:\")\n",
    "    for key, value in directories.items():\n",
    "        if input_num in value:\n",
    "            return key\n",
    "\n",
    "    return \"not found\"\n",
    "\n",
    "print(shelf())        \n",
    "#s – shelf – команда, которая спросит номер документа и выведет номер полки, на которой он находится\n",
    "#Правильно обработайте ситуации, когда пользователь будет вводить несуществующий документ."
   ]
  },
  {
   "cell_type": "markdown",
   "metadata": {},
   "source": [
    "\n",
    "\n",
    "Перечень полок, на которых находятся документы хранится в следующем виде:\n"
   ]
  },
  {
   "cell_type": "code",
   "execution_count": 8,
   "metadata": {},
   "outputs": [],
   "source": []
  },
  {
   "cell_type": "code",
   "execution_count": 37,
   "metadata": {},
   "outputs": [
    {
     "name": "stdout",
     "output_type": "stream",
     "text": [
      "Введите номер документа:11-2\n",
      "Введите номер целевой полки:2\n"
     ]
    }
   ],
   "source": [
    "\n",
    "\n",
    "#m – move – команда, которая спросит номер документа и целевую полку и переместит его с текущей полки на целевую.\n",
    "#Корректно обработайте кейсы, когда пользователь пытается переместить несуществующий документ или переместить документ на несуществующую полку;\n",
    "def move():\n",
    "    doc_num = input (\"Введите номер документа:\")\n",
    "    if sum([value.count(doc_num) for value in directories.values()] )== 0:\n",
    "        print(\"Такого документа не существует!\")\n",
    "        return\n",
    "    shelf_num = input (\"Введите номер целевой полки:\")\n",
    "    if list(directories.keys()).count(shelf_num) != 0:\n",
    "        for key, value in directories.items():\n",
    "                if value.count (doc_num) != 0:\n",
    "                    directories[key].remove(doc_num)\n",
    "        directories[shelf_num].append(doc_num)\n",
    "    else:\n",
    "           print('Такая полка не существует')\n",
    "    \n",
    "           \n",
    "move()    "
   ]
  },
  {
   "cell_type": "markdown",
   "metadata": {},
   "source": [
    "\n",
    "\n",
    "Необходимо реализовать пользовательские команды (внимание! это не название функций, которые должны быть выразительными, а команды, которые вводит пользователь, чтобы получить необходимый результат):\n",
    "\n",
    "    p – people – команда, которая спросит номер документа и выведет имя человека, которому он принадлежит;\n",
    "    s – shelf – команда, которая спросит номер документа и выведет номер полки, на которой он находится\n",
    "    Правильно обработайте ситуации, когда пользователь будет вводить несуществующий документ.\n",
    "    l – list – команда, которая выведет список всех документов в формате\n",
    "    passport \"2207 876234\" \"Василий Гупкин\"\n",
    "    as – add shelf – команда, которая спросит номер новой полки и добавит ее в перечень. Предусмотрите случай, когда пользователь добавляет полку, которая уже существует.\n",
    "    d – delete – команда, которая спросит номер документа и удалит его из каталога и из перечня полок. Предусмотрите сценарий, когда пользователь вводит несуществующий документ;\n",
    "    m – move – команда, которая спросит номер документа и целевую полку и переместит его с текущей полки на целевую. Корректно обработайте кейсы, когда пользователь пытается переместить несуществующий документ или переместить документ на несуществующую полку;\n",
    "    a – add – команда, которая добавит новый документ в каталог и в перечень полок, спросив его номер, тип, имя владельца и номер полки, на котором он будет храниться. Корректно обработайте ситуацию, когда пользователь будет пытаться добавить документ на несуществующую полку.\n",
    "\n"
   ]
  },
  {
   "cell_type": "code",
   "execution_count": 18,
   "metadata": {},
   "outputs": [
    {
     "name": "stdout",
     "output_type": "stream",
     "text": [
      "passport  \"2207 876234\" \"Василий Гупкин\"\n",
      "invoice  \"11-2\" \"Геннадий Покемонов\"\n",
      "insurance  \"10006\" \"Аристарх Павлов\"\n"
     ]
    }
   ],
   "source": [
    "\n",
    "#l – list – команда, которая выведет список всех документов в формате\n",
    "#passport \"2207 876234\" \"Василий Гупкин\"\n",
    "def list_l ():\n",
    "    for doc in documents:\n",
    "        print(doc['type'] +'  \"' + doc['number'] + '\" \"' + doc['name']+ '\"')\n",
    "list_l ()"
   ]
  },
  {
   "cell_type": "code",
   "execution_count": 22,
   "metadata": {},
   "outputs": [
    {
     "name": "stdout",
     "output_type": "stream",
     "text": [
      "Введите номер новой полки:13\n",
      "{'1': ['2207 876234', '11-2'], '2': ['10006'], '3': [], '13': []}\n"
     ]
    }
   ],
   "source": [
    "\n",
    "#as – add shelf – команда, которая спросит номер новой полки и добавит ее в перечень. \n",
    "#Предусмотрите случай, когда пользователь добавляет полку, которая уже существует.\n",
    "\n",
    "def add_shelf():\n",
    "    input_num = input(\"Введите номер новой полки:\")\n",
    "    if input_num in directories: \n",
    "        print (\"Такая полка уже существует!\")\n",
    "    else: \n",
    "        directories.update({input_num:[]})\n",
    "        print(directories)\n",
    "add_shelf()\n",
    "    \n",
    "\n"
   ]
  },
  {
   "cell_type": "code",
   "execution_count": 40,
   "metadata": {},
   "outputs": [
    {
     "name": "stdout",
     "output_type": "stream",
     "text": [
      "Введите номер документа:11-2\n"
     ]
    }
   ],
   "source": [
    "\n",
    "#d – delete – команда, которая спросит номер документа и удалит его из каталога и из перечня полок. \n",
    "#Предусмотрите сценарий, когда пользователь вводит несуществующий документ;\n",
    "input_num = input(\"Введите номер документа:\")\n",
    "def delete():\n",
    "    for el in documents:\n",
    "        if input_num == el['number']:\n",
    "            return documents.remove(el)\n",
    "    for el2 in directories.items():\n",
    "        if input_num == directories.values():\n",
    "            return directories.remove(el)\n",
    "        return \"Такого документа нет\"\n",
    "    \n",
    "delete()"
   ]
  },
  {
   "cell_type": "code",
   "execution_count": 34,
   "metadata": {},
   "outputs": [
    {
     "data": {
      "text/plain": [
       "'not found'"
      ]
     },
     "execution_count": 34,
     "metadata": {},
     "output_type": "execute_result"
    }
   ],
   "source": []
  },
  {
   "cell_type": "code",
   "execution_count": 19,
   "metadata": {},
   "outputs": [
    {
     "name": "stdout",
     "output_type": "stream",
     "text": [
      "Введите номер документа:11-2\n",
      "Введите номер целевой полки:2\n"
     ]
    },
    {
     "ename": "TypeError",
     "evalue": "keys() takes no arguments (1 given)",
     "output_type": "error",
     "traceback": [
      "\u001b[1;31m---------------------------------------------------------------------------\u001b[0m",
      "\u001b[1;31mTypeError\u001b[0m                                 Traceback (most recent call last)",
      "\u001b[1;32m<ipython-input-19-a1e9704ebbd7>\u001b[0m in \u001b[0;36m<module>\u001b[1;34m\u001b[0m\n\u001b[0;32m     15\u001b[0m \u001b[1;32mfor\u001b[0m \u001b[0mel\u001b[0m \u001b[1;32min\u001b[0m \u001b[0mdirectories\u001b[0m\u001b[1;33m.\u001b[0m\u001b[0mvalues\u001b[0m\u001b[1;33m(\u001b[0m\u001b[1;33m)\u001b[0m\u001b[1;33m:\u001b[0m\u001b[1;33m\u001b[0m\u001b[1;33m\u001b[0m\u001b[0m\n\u001b[0;32m     16\u001b[0m     \u001b[1;32mif\u001b[0m \u001b[0mel\u001b[0m \u001b[1;32min\u001b[0m \u001b[0mdirectories\u001b[0m\u001b[1;33m.\u001b[0m\u001b[0mvalues\u001b[0m\u001b[1;33m(\u001b[0m\u001b[1;33m)\u001b[0m\u001b[1;33m:\u001b[0m\u001b[1;33m\u001b[0m\u001b[1;33m\u001b[0m\u001b[0m\n\u001b[1;32m---> 17\u001b[1;33m         \u001b[0mprint\u001b[0m\u001b[1;33m(\u001b[0m\u001b[0mdirectories\u001b[0m\u001b[1;33m.\u001b[0m\u001b[0mkeys\u001b[0m\u001b[1;33m(\u001b[0m\u001b[0mel\u001b[0m\u001b[1;33m)\u001b[0m\u001b[1;33m)\u001b[0m\u001b[1;33m\u001b[0m\u001b[1;33m\u001b[0m\u001b[0m\n\u001b[0m\u001b[0;32m     18\u001b[0m \u001b[1;33m\u001b[0m\u001b[0m\n",
      "\u001b[1;31mTypeError\u001b[0m: keys() takes no arguments (1 given)"
     ]
    }
   ],
   "source": [
    "#m – move – команда, которая спросит номер документа и целевую полку и переместит его с текущей полки на целевую. \n",
    "#Корректно обработайте кейсы, когда пользователь пытается переместить несуществующий документ или переместить документ на несуществующую полку;\n",
    "\n",
    "el = input(\"Введите номер документа:\")\n",
    "input_num_2 = input(\"Введите номер целевой полки:\")\n",
    "for el in directories.values():\n",
    "    if el in directories.values():\n",
    "        print(directories.keys())\n",
    "    "
   ]
  },
  {
   "cell_type": "code",
   "execution_count": 3,
   "metadata": {},
   "outputs": [],
   "source": [
    "\n",
    "#a – add – команда, которая добавит новый документ в каталог и в перечень полок, \n",
    "#спросив его номер, тип, имя владельца и номер полки, на котором он будет храниться. \n",
    "#Корректно обработайте ситуацию, когда пользователь будет пытаться добавить документ на несуществующую полку.\n",
    "def add (documents,directories):\n",
    "    doc_num = input(\"Введите номер документа:\")\n",
    "    doc_type = input(\"Введите тип документа:\")\n",
    "    doc_name = input(\"Введите имя владельца документа:\")\n",
    "    doc_num_2 = input(\"Введите номер целевой полки:\")\n",
    "    if doc_num_2 not in directories:\n",
    "        print(\"Такого документа не существует!\")\n",
    "        return\n",
    "    documents.append({'type':doc_type, 'number':doc_num, 'name':doc_num})\n",
    "    directories[doc_num_2].append(doc_num)\n",
    "    return\n"
   ]
  },
  {
   "cell_type": "code",
   "execution_count": null,
   "metadata": {},
   "outputs": [],
   "source": [
    "add (documents,directories)\n",
    "print (documents,directories)"
   ]
  },
  {
   "cell_type": "code",
   "execution_count": null,
   "metadata": {},
   "outputs": [],
   "source": []
  }
 ],
 "metadata": {
  "kernelspec": {
   "display_name": "Python 3",
   "language": "python",
   "name": "python3"
  },
  "language_info": {
   "codemirror_mode": {
    "name": "ipython",
    "version": 3
   },
   "file_extension": ".py",
   "mimetype": "text/x-python",
   "name": "python",
   "nbconvert_exporter": "python",
   "pygments_lexer": "ipython3",
   "version": "3.7.6"
  }
 },
 "nbformat": 4,
 "nbformat_minor": 4
}
