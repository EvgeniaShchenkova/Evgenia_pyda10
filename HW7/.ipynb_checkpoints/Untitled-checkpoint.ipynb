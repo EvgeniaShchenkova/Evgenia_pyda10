{
 "cells": [
  {
   "cell_type": "markdown",
   "metadata": {},
   "source": [
    "Задание 1\n",
    "Печатные газеты использовали свой формат дат для каждого выпуска. Для каждой газеты из списка напишите формат указанной даты для перевода в объект datetime:\n",
    "The Moscow Times - Wednesday, October 2, 2002\n",
    "The Guardian - Friday, 11.10.13\n",
    "Daily News - Thursday, 18 August 1977"
   ]
  },
  {
   "cell_type": "code",
   "execution_count": 1,
   "metadata": {},
   "outputs": [
    {
     "name": "stdout",
     "output_type": "stream",
     "text": [
      "Введите название газеты The Moscow Times\n",
      "Введите дату Wednesday, October 2, 2002\n",
      "2002-10-02 00:00:00\n"
     ]
    }
   ],
   "source": [
    "\n",
    "from datetime import datetime \n",
    "user_input = input(\"Введите название газеты \")\n",
    "data = input(\"Введите дату \")\n",
    "\n",
    "if user_input == 'The Moscow Times':\n",
    "    c = datetime.strptime(data, '%A, %B %d, %Y')\n",
    "    print(c)\n",
    "\n",
    "elif user_input == 'The Guardian':\n",
    "    c = datetime.strptime(data, '%A, %d.%m.%y')\n",
    "    print(c)\n",
    "    \n",
    "elif user_input == 'Daily News':\n",
    "    c = datetime.strptime(data, '%A, %d %B %Y')\n",
    "    print(c)\n",
    "\n",
    "    "
   ]
  },
  {
   "cell_type": "markdown",
   "metadata": {},
   "source": [
    "Задание 2\n",
    "Дан поток дат в формате YYYY-MM-DD, в которых встречаются некорректные значения:\n",
    "stream = ['2018-04-02', '2018-02-29', '2018-19-02']\n",
    "\n",
    "Напишите функцию, которая проверяет эти даты на корректность. Т. е. для каждой даты возвращает True (дата корректна) или False (некорректная дата). "
   ]
  },
  {
   "cell_type": "code",
   "execution_count": 11,
   "metadata": {},
   "outputs": [],
   "source": [
    "stream = ['2018-04-02', '2018-02-29', '2018-19-02']\n",
    "def checking():\n",
    "    for num in stream: \n",
    "        try:\n",
    "            datetime.strptime(num, '%Y-%m-%d')\n",
    "            print('true:', num)\n",
    "        except:\n",
    "            print('false:', num)"
   ]
  },
  {
   "cell_type": "code",
   "execution_count": 12,
   "metadata": {},
   "outputs": [
    {
     "name": "stdout",
     "output_type": "stream",
     "text": [
      "true: 2018-04-02\n",
      "false: 2018-02-29\n",
      "false: 2018-19-02\n"
     ]
    }
   ],
   "source": [
    "checking()"
   ]
  },
  {
   "cell_type": "code",
   "execution_count": null,
   "metadata": {},
   "outputs": [],
   "source": [
    "Задание 3\n",
    "Напишите функцию date_range, которая возвращает список дат за период от start_date до end_date.\n",
    "Даты должны вводиться в формате YYYY-MM-DD. \n",
    "В случае неверного формата или при start_date > end_date должен возвращаться пустой список."
   ]
  },
  {
   "cell_type": "code",
   "execution_count": 18,
   "metadata": {},
   "outputs": [
    {
     "name": "stdout",
     "output_type": "stream",
     "text": [
      "Введите дату начала в формате YYYY-MM-DD:2018-04-02\n",
      "Введите дату окончания в формате YYYY-MM-DD:2018-03-02\n"
     ]
    },
    {
     "data": {
      "text/plain": [
       "[]"
      ]
     },
     "execution_count": 18,
     "metadata": {},
     "output_type": "execute_result"
    }
   ],
   "source": [
    "\n",
    "start_date = input(\"Введите дату начала в формате YYYY-MM-DD:\")\n",
    "end_date = input(\"Введите дату окончания в формате YYYY-MM-DD:\")\n",
    "\n",
    "def date_range(start, end):\n",
    "    \n",
    "    from datetime import datetime \n",
    "    from datetime import timedelta\n",
    "    range = []\n",
    "    start_date = datetime.strptime(start, '%Y-%m-%d')\n",
    "    end_date = datetime.strptime(end, '%Y-%m-%d' )\n",
    "    \n",
    "    while start_date <= end_date:\n",
    "        \n",
    "        range.append(start_date.strftime('%Y-%m-%d'))\n",
    "        start_date += timedelta(days=1)\n",
    "    return range\n",
    "\n",
    "date_range('2018-04-02', '2018-03-02')\n",
    "            "
   ]
  },
  {
   "cell_type": "code",
   "execution_count": null,
   "metadata": {},
   "outputs": [],
   "source": [
    "Задание 4 (бонусное)\n",
    "Ваш коллега прислал код функции:\n",
    "\n",
    "DEFAULT_USER_COUNT = 3\n",
    "\n",
    "def delete_and_return_last_user(region, default_list=['A100', 'A101', 'A102']):\n",
    "    \"\"\"\n",
    "    Удаляет из списка default_list последнего пользователя \n",
    "    и возвращает ID нового последнего пользователя.\n",
    "    \"\"\"\n",
    "    element_to_delete = default_list[-1]\n",
    "    default_list.remove(element_to_delete)\n",
    "    \n",
    "    return default_list[DEFAULT_USER_COUNT-2]\n",
    "\n",
    "При однократном вызове этой функции все работает корректно:\n",
    "delete_and_return_last_user(1)\n",
    "'A101'\n",
    "\n",
    "Однако, при повторном вызове получается ошибка IndexError: list index out of range.\n",
    "\n",
    "Задание:\n",
    "1. Что значит ошибка list index out of range?\n",
    "2. Почему при первом запуске функция работает корректно, а при втором - нет?\n",
    "\n",
    "Ответ:\n",
    "Ошибка происходит из-за того что список уменьшаяется и значение индекса выходит за реальные границы списка. "
   ]
  }
 ],
 "metadata": {
  "kernelspec": {
   "display_name": "Python 3",
   "language": "python",
   "name": "python3"
  },
  "language_info": {
   "codemirror_mode": {
    "name": "ipython",
    "version": 3
   },
   "file_extension": ".py",
   "mimetype": "text/x-python",
   "name": "python",
   "nbconvert_exporter": "python",
   "pygments_lexer": "ipython3",
   "version": "3.7.6"
  }
 },
 "nbformat": 4,
 "nbformat_minor": 4
}
