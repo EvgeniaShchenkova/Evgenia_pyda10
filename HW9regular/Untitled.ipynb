{
 "cells": [
  {
   "cell_type": "code",
   "execution_count": null,
   "metadata": {},
   "outputs": [],
   "source": [
    "import re"
   ]
  },
  {
   "cell_type": "markdown",
   "metadata": {},
   "source": [
    "Задание 1.\n",
    "Напишите функцию, которая принимает на вход строку и проверяет является ли она валидным транспортным номером. Если да, то функция должна возвращать отдельно номер и регион.\n",
    "\n",
    "\n",
    "Примеры номеров:\n",
    "м963мм 134\n",
    "м976мм 55\n",
    "мм6879 55\n",
    "7976мм 55\n"
   ]
  },
  {
   "cell_type": "code",
   "execution_count": null,
   "metadata": {},
   "outputs": [],
   "source": [
    "\n",
    "def car_number():\n",
    "    number = input(\"Введите транспортный номер:\")\n",
    "    # print(\"Номер:\", re.findall(r'^[^\\d]*\\d{3,4}[^\\d\\s]*', number),\"Регион:\", re.findall(r'$\\w[^\\d_]{3,4}', number ))\n",
    "    try:\n",
    "        print(\"Регион:\",re.findall(r'\\b\\d{2,3}', number), \"Номер:\", re.findall(r'^[^\\d]*\\d{3,4}[^\\d\\s]*', number))\n",
    "#re.findall(r'^[^\\d]*\\d{3,4}[^\\d\\s]*', number)\n",
    "    except:\n",
    "        print('false')\n",
    "\n",
    "  \n",
    "\n",
    "car_number() \n"
   ]
  },
  {
   "cell_type": "code",
   "execution_count": null,
   "metadata": {},
   "outputs": [],
   "source": []
  },
  {
   "cell_type": "markdown",
   "metadata": {},
   "source": [
    "Задание 2.\n",
    "Постарайтесь написать (в крайнем случае найти) самый полный шаблон для проверки e-mail адресов через регулярное выражение, которая проверяет e-mail адрес на валидность. Можно руководствоваться следующими минимальными требованиями:\n",
    "• адрес должен содержать специальный символ “@”, который отделяет имя пользователя почтовой системы от доменного имени;\n",
    "• адрес не должен содержать следующие символы: “пробел”, “,”, “:”, “;”, “!”, “#”, “%”, “*”, “(”, “)”, “=”, “+”, “{”, “}”, \" \" \", \" ’ \", \" / \", \" \\ \" и “|”;\n",
    "• адрес должен состоять только из латинских символов;\n",
    "• после символа “@” должна быть как минимум одна “.”;\n",
    "• после последней точки должно быть не менее 2-х и не более 4-х символов, причем наличие цифр не допускается;\n",
    "• между последней точкой и символом “@” должно быть не менее 2-х символов\n",
    "• слева от “@” должно быть не менее четырех символов\n",
    "\n"
   ]
  },
  {
   "cell_type": "code",
   "execution_count": null,
   "metadata": {},
   "outputs": [],
   "source": [
    "adress = \"evgenia_shchenkova@mail.ru\"\n",
    "\n",
    "#re.findall(r'\\w[^\\d]+\\@\\w[^\\d]+\\.\\w[^\\d]{2,4}', adress)\n",
    "#print(re.findall(r'^.+./@.+$/.\\D{2,4}', adress))\n",
    "re.findall(r'[^\\d\\s]{4,}\\@[^\\d\\s_]{2,}\\.[^\\d\\s_]{2,4}', adress)"
   ]
  },
  {
   "cell_type": "markdown",
   "metadata": {},
   "source": [
    "Задание 3. **\n",
    "Напишите функцию, которая будет удалять все последовательные повторы слов из заданной строки при помощи регулярных выражений."
   ]
  },
  {
   "cell_type": "code",
   "execution_count": null,
   "metadata": {},
   "outputs": [],
   "source": [
    "Line = 'Кошка Кошка Собака Собака Кузнечик Кузнечик Кузнечик Кузнечик'\n",
    "#re.sub(r'(\\d)+', r'\\1', numbers)\n",
    "\n",
    "#re.sub(r'(\\D+)', r'\\1', Line)\n",
    "print( re.sub(r'\\b([^\\W\\d_]+)(\\s+\\1)+\\b', r'\\1', Line)) "
   ]
  },
  {
   "cell_type": "markdown",
   "metadata": {},
   "source": [
    "Задание 4.\n",
    "Напишите функцию, которая будет проверять номер сотового телефона на валидность, если он валиден, то переводить его в формат:\n",
    "+7(xxx)-xxx-xx-xx\n",
    "​\n",
    "Постарайтесь предусмотреть как можно больше адекватных форматов изначального ввода номера. Примеры валидных форматов:\n",
    "​\n",
    "• +7 955 555-55-55;\n",
    "• 9555555555;\n",
    "• 8(955)555-55-55;\n",
    "• +7 955 555 55 55;\n",
    "• 7(955) 555-55-55;\n",
    "• +7 955+555+55+55.\n"
   ]
  },
  {
   "cell_type": "code",
   "execution_count": 28,
   "metadata": {},
   "outputs": [
    {
     "name": "stdout",
     "output_type": "stream",
     "text": [
      "9555555555\n",
      "+7(955)-555-55-55\n"
     ]
    }
   ],
   "source": [
    "number =  '9555555555'\n",
    "#re.sub(r'(\\W\\d)(\\W)(\\d{3})(\\W)(\\d{3})(\\W)(\\d{2})(\\W)(\\d{2})', r'+7(\\3)-\\5-\\7-\\9', number)\n",
    "number_2 = re.sub(r\"[^\\d]\", \"\", number)\n",
    "print(number_2)\n",
    "if len(number_2) == 10 or len(number_2) == 11:\n",
    "    final = re.sub(r'(\\d*)(\\d{3})(\\d{3})(\\d{2})(\\d{2})', r'+7(\\2)-\\3-\\4-\\5', number_2)\n",
    "    print(final)\n",
    "else:\n",
    "    print(\"invalid sintaxis\")"
   ]
  },
  {
   "cell_type": "code",
   "execution_count": null,
   "metadata": {},
   "outputs": [],
   "source": []
  }
 ],
 "metadata": {
  "kernelspec": {
   "display_name": "Python 3",
   "language": "python",
   "name": "python3"
  },
  "language_info": {
   "codemirror_mode": {
    "name": "ipython",
    "version": 3
   },
   "file_extension": ".py",
   "mimetype": "text/x-python",
   "name": "python",
   "nbconvert_exporter": "python",
   "pygments_lexer": "ipython3",
   "version": "3.7.6"
  }
 },
 "nbformat": 4,
 "nbformat_minor": 4
}
